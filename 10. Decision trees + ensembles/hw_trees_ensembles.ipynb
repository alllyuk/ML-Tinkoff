{
  "nbformat": 4,
  "nbformat_minor": 0,
  "metadata": {
    "colab": {
      "name": "hw_trees_ensembles.ipynb",
      "provenance": [],
      "collapsed_sections": [
        "aBZhr_dw6HAn"
      ]
    },
    "kernelspec": {
      "name": "python3",
      "display_name": "Python 3"
    },
    "accelerator": "GPU"
  },
  "cells": [
    {
      "cell_type": "markdown",
      "metadata": {
        "id": "EADmNKm_ucFI"
      },
      "source": [
        "## Homework"
      ]
    },
    {
      "cell_type": "code",
      "metadata": {
        "id": "wjurpt4KJmCh",
        "colab": {
          "base_uri": "https://localhost:8080/"
        },
        "outputId": "ea76632b-2d1c-4fa6-e5aa-e046efac068c"
      },
      "source": [
        "!wget --no-check-certificate 'https://docs.google.com/uc?export=download&id=1OKFSv2GpuUFDphO0r8LdM7bl6MAWwBfX' -O data.csv"
      ],
      "execution_count": 3,
      "outputs": [
        {
          "output_type": "stream",
          "name": "stdout",
          "text": [
            "--2022-05-12 10:28:10--  https://docs.google.com/uc?export=download&id=1OKFSv2GpuUFDphO0r8LdM7bl6MAWwBfX\n",
            "Resolving docs.google.com (docs.google.com)... 108.177.98.102, 108.177.98.101, 108.177.98.138, ...\n",
            "Connecting to docs.google.com (docs.google.com)|108.177.98.102|:443... connected.\n",
            "HTTP request sent, awaiting response... 303 See Other\n",
            "Location: https://doc-04-ak-docs.googleusercontent.com/docs/securesc/ha0ro937gcuc7l7deffksulhg5h7mbp1/medpnpdaoe253hjj9fi3psg394uvjgot/1652351250000/03856158561714992485/*/1OKFSv2GpuUFDphO0r8LdM7bl6MAWwBfX?e=download [following]\n",
            "Warning: wildcards not supported in HTTP.\n",
            "--2022-05-12 10:28:12--  https://doc-04-ak-docs.googleusercontent.com/docs/securesc/ha0ro937gcuc7l7deffksulhg5h7mbp1/medpnpdaoe253hjj9fi3psg394uvjgot/1652351250000/03856158561714992485/*/1OKFSv2GpuUFDphO0r8LdM7bl6MAWwBfX?e=download\n",
            "Resolving doc-04-ak-docs.googleusercontent.com (doc-04-ak-docs.googleusercontent.com)... 74.125.142.132, 2607:f8b0:400e:c08::84\n",
            "Connecting to doc-04-ak-docs.googleusercontent.com (doc-04-ak-docs.googleusercontent.com)|74.125.142.132|:443... connected.\n",
            "HTTP request sent, awaiting response... 200 OK\n",
            "Length: 33322228 (32M) [text/csv]\n",
            "Saving to: ‘data.csv’\n",
            "\n",
            "data.csv            100%[===================>]  31.78M   189MB/s    in 0.2s    \n",
            "\n",
            "2022-05-12 10:28:12 (189 MB/s) - ‘data.csv’ saved [33322228/33322228]\n",
            "\n"
          ]
        }
      ]
    },
    {
      "cell_type": "markdown",
      "metadata": {
        "id": "UBAI5LS2xBSm"
      },
      "source": [
        "В этой домашней работе вы будете предсказывать стоимость домов по их характеристикам.\n",
        "\n",
        "Метрика качества: `RMSE`\n",
        "\n",
        "Оценивание:\n",
        "* Baseline - 2 балла\n",
        "* Feature Engineering - 2 балла\n",
        "* Model Selection - 3 балла\n",
        "* Ensemble v.1 - 3 балла\n",
        "* (*) Ensemble v.2 - дополнительно, 2 балла"
      ]
    },
    {
      "cell_type": "markdown",
      "metadata": {
        "id": "aBZhr_dw6HAn"
      },
      "source": [
        "### Описание датасета\n",
        "\n",
        "Короткое описание данных:\n",
        "```\n",
        "price: sale price (this is the target variable)\n",
        "id: transaction id\n",
        "timestamp: date of transaction\n",
        "full_sq: total area in square meters, including loggias, balconies and other non-residential areas\n",
        "life_sq: living area in square meters, excluding loggias, balconies and other non-residential areas\n",
        "floor: for apartments, floor of the building\n",
        "max_floor: number of floors in the building\n",
        "material: wall material\n",
        "build_year: year built\n",
        "num_room: number of living rooms\n",
        "kitch_sq: kitchen area\n",
        "state: apartment condition\n",
        "product_type: owner-occupier purchase or investment\n",
        "sub_area: name of the district\n",
        "\n",
        "The dataset also includes a collection of features about each property's surrounding neighbourhood, and some features that are constant across each sub area (known as a Raion). Most of the feature names are self explanatory, with the following notes. See below for a complete list.\n",
        "\n",
        "full_all: subarea population\n",
        "male_f, female_f: subarea population by gender\n",
        "young_*: population younger than working age\n",
        "work_*: working-age population\n",
        "ekder_*: retirement-age population\n",
        "n_m_{all|male|female}: population between n and m years old\n",
        "build_count_*: buildings in the subarea by construction type or year\n",
        "x_count_500: the number of x within 500m of the property\n",
        "x_part_500: the share of x within 500m of the property\n",
        "_sqm_: square meters\n",
        "cafe_count_d_price_p: number of cafes within d meters of the property that have an average bill under p RUB\n",
        "trc_: shopping malls\n",
        "prom_: industrial zones\n",
        "green_: green zones\n",
        "metro_: subway\n",
        "_avto_: distances by car\n",
        "mkad_: Moscow Circle Auto Road\n",
        "ttk_: Third Transport Ring\n",
        "sadovoe_: Garden Ring\n",
        "bulvar_ring_: Boulevard Ring\n",
        "kremlin_: City center\n",
        "zd_vokzaly_: Train station\n",
        "oil_chemistry_: Dirty industry\n",
        "ts_: Power plant\n",
        "```"
      ]
    },
    {
      "cell_type": "markdown",
      "metadata": {
        "id": "TOPtM_06uyqv"
      },
      "source": [
        "### Setup"
      ]
    },
    {
      "cell_type": "code",
      "metadata": {
        "id": "9TpHMcn3u0MV"
      },
      "source": [
        "import pandas as pd\n",
        "import numpy as np\n",
        "from sklearn.linear_model import Lasso\n",
        "from sklearn.tree import DecisionTreeRegressor\n",
        "from sklearn.ensemble import RandomForestRegressor\n",
        "from sklearn.model_selection import train_test_split, cross_val_score, GridSearchCV\n",
        "from sklearn.metrics import mean_squared_error\n",
        "from sklearn.preprocessing import StandardScaler, MinMaxScaler, PolynomialFeatures\n",
        "#from sklearn import tree, metrics, model_selection\n",
        "import matplotlib.pyplot as plt\n",
        "from collections import Counter\n",
        "from warnings import filterwarnings\n",
        "filterwarnings('ignore')"
      ],
      "execution_count": 4,
      "outputs": []
    },
    {
      "cell_type": "code",
      "metadata": {
        "id": "-TLkVG3EwJzj"
      },
      "source": [
        "df = pd.read_csv(\"data.csv\", parse_dates=[\"timestamp\"]).drop(0, axis = 0).drop(['id'], axis = 1).reset_index(drop = True)"
      ],
      "execution_count": 5,
      "outputs": []
    },
    {
      "cell_type": "code",
      "source": [
        "df.head(4)"
      ],
      "metadata": {
        "colab": {
          "base_uri": "https://localhost:8080/",
          "height": 338
        },
        "id": "fDx30PDbbSKs",
        "outputId": "37840556-6e26-486f-bc99-a542b90f7b8f"
      },
      "execution_count": 6,
      "outputs": [
        {
          "output_type": "execute_result",
          "data": {
            "text/plain": [
              "   timestamp  full_sq  life_sq  floor  max_floor  material  build_year  \\\n",
              "0 2012-10-04       64     64.0   16.0        NaN       NaN         NaN   \n",
              "1 2014-02-05       83     44.0    9.0       17.0       1.0      1985.0   \n",
              "2 2012-07-26       71     49.0    2.0        NaN       NaN         NaN   \n",
              "3 2014-10-29       60     42.0    9.0        9.0       1.0      1970.0   \n",
              "\n",
              "   num_room  kitch_sq  state  ... cafe_count_5000_price_2500  \\\n",
              "0       NaN       NaN    NaN  ...                          2   \n",
              "1       3.0      10.0    3.0  ...                         13   \n",
              "2       NaN       NaN    NaN  ...                          0   \n",
              "3       3.0       6.0    2.0  ...                          3   \n",
              "\n",
              "  cafe_count_5000_price_4000  cafe_count_5000_price_high  \\\n",
              "0                          2                           0   \n",
              "1                          6                           1   \n",
              "2                          0                           0   \n",
              "3                          1                           0   \n",
              "\n",
              "   big_church_count_5000  church_count_5000  mosque_count_5000  \\\n",
              "0                      0                 13                  1   \n",
              "1                      8                 18                  0   \n",
              "2                      1                  3                  0   \n",
              "3                      5                  8                  0   \n",
              "\n",
              "   leisure_count_5000  sport_count_5000  market_count_5000     price  \n",
              "0                   0                 6                  1   6080000  \n",
              "1                   1                52                  0  17000000  \n",
              "2                   2                 8                  2    990000  \n",
              "3                   1                34                  5   7900000  \n",
              "\n",
              "[4 rows x 291 columns]"
            ],
            "text/html": [
              "\n",
              "  <div id=\"df-ee353330-1cc8-4859-95c9-da5279730c7a\">\n",
              "    <div class=\"colab-df-container\">\n",
              "      <div>\n",
              "<style scoped>\n",
              "    .dataframe tbody tr th:only-of-type {\n",
              "        vertical-align: middle;\n",
              "    }\n",
              "\n",
              "    .dataframe tbody tr th {\n",
              "        vertical-align: top;\n",
              "    }\n",
              "\n",
              "    .dataframe thead th {\n",
              "        text-align: right;\n",
              "    }\n",
              "</style>\n",
              "<table border=\"1\" class=\"dataframe\">\n",
              "  <thead>\n",
              "    <tr style=\"text-align: right;\">\n",
              "      <th></th>\n",
              "      <th>timestamp</th>\n",
              "      <th>full_sq</th>\n",
              "      <th>life_sq</th>\n",
              "      <th>floor</th>\n",
              "      <th>max_floor</th>\n",
              "      <th>material</th>\n",
              "      <th>build_year</th>\n",
              "      <th>num_room</th>\n",
              "      <th>kitch_sq</th>\n",
              "      <th>state</th>\n",
              "      <th>...</th>\n",
              "      <th>cafe_count_5000_price_2500</th>\n",
              "      <th>cafe_count_5000_price_4000</th>\n",
              "      <th>cafe_count_5000_price_high</th>\n",
              "      <th>big_church_count_5000</th>\n",
              "      <th>church_count_5000</th>\n",
              "      <th>mosque_count_5000</th>\n",
              "      <th>leisure_count_5000</th>\n",
              "      <th>sport_count_5000</th>\n",
              "      <th>market_count_5000</th>\n",
              "      <th>price</th>\n",
              "    </tr>\n",
              "  </thead>\n",
              "  <tbody>\n",
              "    <tr>\n",
              "      <th>0</th>\n",
              "      <td>2012-10-04</td>\n",
              "      <td>64</td>\n",
              "      <td>64.0</td>\n",
              "      <td>16.0</td>\n",
              "      <td>NaN</td>\n",
              "      <td>NaN</td>\n",
              "      <td>NaN</td>\n",
              "      <td>NaN</td>\n",
              "      <td>NaN</td>\n",
              "      <td>NaN</td>\n",
              "      <td>...</td>\n",
              "      <td>2</td>\n",
              "      <td>2</td>\n",
              "      <td>0</td>\n",
              "      <td>0</td>\n",
              "      <td>13</td>\n",
              "      <td>1</td>\n",
              "      <td>0</td>\n",
              "      <td>6</td>\n",
              "      <td>1</td>\n",
              "      <td>6080000</td>\n",
              "    </tr>\n",
              "    <tr>\n",
              "      <th>1</th>\n",
              "      <td>2014-02-05</td>\n",
              "      <td>83</td>\n",
              "      <td>44.0</td>\n",
              "      <td>9.0</td>\n",
              "      <td>17.0</td>\n",
              "      <td>1.0</td>\n",
              "      <td>1985.0</td>\n",
              "      <td>3.0</td>\n",
              "      <td>10.0</td>\n",
              "      <td>3.0</td>\n",
              "      <td>...</td>\n",
              "      <td>13</td>\n",
              "      <td>6</td>\n",
              "      <td>1</td>\n",
              "      <td>8</td>\n",
              "      <td>18</td>\n",
              "      <td>0</td>\n",
              "      <td>1</td>\n",
              "      <td>52</td>\n",
              "      <td>0</td>\n",
              "      <td>17000000</td>\n",
              "    </tr>\n",
              "    <tr>\n",
              "      <th>2</th>\n",
              "      <td>2012-07-26</td>\n",
              "      <td>71</td>\n",
              "      <td>49.0</td>\n",
              "      <td>2.0</td>\n",
              "      <td>NaN</td>\n",
              "      <td>NaN</td>\n",
              "      <td>NaN</td>\n",
              "      <td>NaN</td>\n",
              "      <td>NaN</td>\n",
              "      <td>NaN</td>\n",
              "      <td>...</td>\n",
              "      <td>0</td>\n",
              "      <td>0</td>\n",
              "      <td>0</td>\n",
              "      <td>1</td>\n",
              "      <td>3</td>\n",
              "      <td>0</td>\n",
              "      <td>2</td>\n",
              "      <td>8</td>\n",
              "      <td>2</td>\n",
              "      <td>990000</td>\n",
              "    </tr>\n",
              "    <tr>\n",
              "      <th>3</th>\n",
              "      <td>2014-10-29</td>\n",
              "      <td>60</td>\n",
              "      <td>42.0</td>\n",
              "      <td>9.0</td>\n",
              "      <td>9.0</td>\n",
              "      <td>1.0</td>\n",
              "      <td>1970.0</td>\n",
              "      <td>3.0</td>\n",
              "      <td>6.0</td>\n",
              "      <td>2.0</td>\n",
              "      <td>...</td>\n",
              "      <td>3</td>\n",
              "      <td>1</td>\n",
              "      <td>0</td>\n",
              "      <td>5</td>\n",
              "      <td>8</td>\n",
              "      <td>0</td>\n",
              "      <td>1</td>\n",
              "      <td>34</td>\n",
              "      <td>5</td>\n",
              "      <td>7900000</td>\n",
              "    </tr>\n",
              "  </tbody>\n",
              "</table>\n",
              "<p>4 rows × 291 columns</p>\n",
              "</div>\n",
              "      <button class=\"colab-df-convert\" onclick=\"convertToInteractive('df-ee353330-1cc8-4859-95c9-da5279730c7a')\"\n",
              "              title=\"Convert this dataframe to an interactive table.\"\n",
              "              style=\"display:none;\">\n",
              "        \n",
              "  <svg xmlns=\"http://www.w3.org/2000/svg\" height=\"24px\"viewBox=\"0 0 24 24\"\n",
              "       width=\"24px\">\n",
              "    <path d=\"M0 0h24v24H0V0z\" fill=\"none\"/>\n",
              "    <path d=\"M18.56 5.44l.94 2.06.94-2.06 2.06-.94-2.06-.94-.94-2.06-.94 2.06-2.06.94zm-11 1L8.5 8.5l.94-2.06 2.06-.94-2.06-.94L8.5 2.5l-.94 2.06-2.06.94zm10 10l.94 2.06.94-2.06 2.06-.94-2.06-.94-.94-2.06-.94 2.06-2.06.94z\"/><path d=\"M17.41 7.96l-1.37-1.37c-.4-.4-.92-.59-1.43-.59-.52 0-1.04.2-1.43.59L10.3 9.45l-7.72 7.72c-.78.78-.78 2.05 0 2.83L4 21.41c.39.39.9.59 1.41.59.51 0 1.02-.2 1.41-.59l7.78-7.78 2.81-2.81c.8-.78.8-2.07 0-2.86zM5.41 20L4 18.59l7.72-7.72 1.47 1.35L5.41 20z\"/>\n",
              "  </svg>\n",
              "      </button>\n",
              "      \n",
              "  <style>\n",
              "    .colab-df-container {\n",
              "      display:flex;\n",
              "      flex-wrap:wrap;\n",
              "      gap: 12px;\n",
              "    }\n",
              "\n",
              "    .colab-df-convert {\n",
              "      background-color: #E8F0FE;\n",
              "      border: none;\n",
              "      border-radius: 50%;\n",
              "      cursor: pointer;\n",
              "      display: none;\n",
              "      fill: #1967D2;\n",
              "      height: 32px;\n",
              "      padding: 0 0 0 0;\n",
              "      width: 32px;\n",
              "    }\n",
              "\n",
              "    .colab-df-convert:hover {\n",
              "      background-color: #E2EBFA;\n",
              "      box-shadow: 0px 1px 2px rgba(60, 64, 67, 0.3), 0px 1px 3px 1px rgba(60, 64, 67, 0.15);\n",
              "      fill: #174EA6;\n",
              "    }\n",
              "\n",
              "    [theme=dark] .colab-df-convert {\n",
              "      background-color: #3B4455;\n",
              "      fill: #D2E3FC;\n",
              "    }\n",
              "\n",
              "    [theme=dark] .colab-df-convert:hover {\n",
              "      background-color: #434B5C;\n",
              "      box-shadow: 0px 1px 3px 1px rgba(0, 0, 0, 0.15);\n",
              "      filter: drop-shadow(0px 1px 2px rgba(0, 0, 0, 0.3));\n",
              "      fill: #FFFFFF;\n",
              "    }\n",
              "  </style>\n",
              "\n",
              "      <script>\n",
              "        const buttonEl =\n",
              "          document.querySelector('#df-ee353330-1cc8-4859-95c9-da5279730c7a button.colab-df-convert');\n",
              "        buttonEl.style.display =\n",
              "          google.colab.kernel.accessAllowed ? 'block' : 'none';\n",
              "\n",
              "        async function convertToInteractive(key) {\n",
              "          const element = document.querySelector('#df-ee353330-1cc8-4859-95c9-da5279730c7a');\n",
              "          const dataTable =\n",
              "            await google.colab.kernel.invokeFunction('convertToInteractive',\n",
              "                                                     [key], {});\n",
              "          if (!dataTable) return;\n",
              "\n",
              "          const docLinkHtml = 'Like what you see? Visit the ' +\n",
              "            '<a target=\"_blank\" href=https://colab.research.google.com/notebooks/data_table.ipynb>data table notebook</a>'\n",
              "            + ' to learn more about interactive tables.';\n",
              "          element.innerHTML = '';\n",
              "          dataTable['output_type'] = 'display_data';\n",
              "          await google.colab.output.renderOutput(dataTable, element);\n",
              "          const docLink = document.createElement('div');\n",
              "          docLink.innerHTML = docLinkHtml;\n",
              "          element.appendChild(docLink);\n",
              "        }\n",
              "      </script>\n",
              "    </div>\n",
              "  </div>\n",
              "  "
            ]
          },
          "metadata": {},
          "execution_count": 6
        }
      ]
    },
    {
      "cell_type": "code",
      "source": [
        "drop_columns = ['timestamp'] #id уже удален\n",
        "\n",
        "cat_columns = ['product_type', 'material', 'state', 'sub_area', 'culture_objects_top_25', 'thermal_power_plant_raion', 'incineration_raion', 'oil_chemistry_raion',\n",
        "    'radiation_raion', 'railroad_terminal_raion', 'big_market_raion', 'nuclear_reactor_raion', 'detention_facility_raion', 'ID_metro', 'ID_railroad_station_walk',\n",
        "    'ID_railroad_station_avto', 'water_1line', 'ID_big_road1', 'big_road1_1line', 'ID_big_road2', 'railroad_1line', 'ID_railroad_terminal', 'ID_bus_terminal','ecology']\n",
        "\n",
        "num_columns = list(set(df.columns).difference(set(cat_columns + drop_columns)))"
      ],
      "metadata": {
        "id": "B7BeuqQJwJxe"
      },
      "execution_count": 7,
      "outputs": []
    },
    {
      "cell_type": "markdown",
      "source": [
        "*Поработаем теперь с заполнением данных*"
      ],
      "metadata": {
        "id": "jV4QsrOfXxGr"
      }
    },
    {
      "cell_type": "markdown",
      "source": [
        "В процессе подготовки данных нашлась ошибка в годе постройки:"
      ],
      "metadata": {
        "id": "Djo6WC9O3wl4"
      }
    },
    {
      "cell_type": "code",
      "source": [
        "print(df.iloc[df['build_year'].argmax()]['build_year'])\n",
        "if df.iloc[df['build_year'].argmax()]['build_year'] > 2030:\n",
        "  df.at[df['build_year'].argmax(), 'build_year'] = 2005"
      ],
      "metadata": {
        "colab": {
          "base_uri": "https://localhost:8080/"
        },
        "id": "dfXbJS8X0DTm",
        "outputId": "f659af65-dc06-4e5b-a8d7-934dede70b84"
      },
      "execution_count": 8,
      "outputs": [
        {
          "output_type": "stream",
          "name": "stdout",
          "text": [
            "20052009.0\n"
          ]
        }
      ]
    },
    {
      "cell_type": "markdown",
      "source": [
        "Разберемся с площадью и этажностью, там нельзя просто вставить среднее, т.к. жилая площадь <= полной и с этажами аналогично."
      ],
      "metadata": {
        "id": "N0ClcQ4IcgWb"
      }
    },
    {
      "cell_type": "code",
      "source": [
        "df['full_sq'] = df.apply(lambda row: row['life_sq'] if row['full_sq'] < row['life_sq'] else row['full_sq'], axis = 1) #чтобы полная площадь была не меньше жилой\n",
        "\n",
        "df = df[df['full_sq'] > 5] #странная какая-то площадь 5 кв.м.\n",
        "\n",
        "df_squares = df[['full_sq', 'life_sq']].dropna(how = 'any')\n",
        "df_squares = df_squares[df_squares['life_sq'] > 0]\n",
        "df_squares_fraq = (df_squares['life_sq']/df_squares['full_sq']).mean() #для тех, кто не указал жилую, умножим полную на среднее отношение площадей\n",
        "df['life_sq'] = df.apply(lambda row: row['full_sq']*df_squares_fraq if np.isnan(row['life_sq']) else row['life_sq'], axis = 1) "
      ],
      "metadata": {
        "id": "R1AmNEyeX3uq"
      },
      "execution_count": 9,
      "outputs": []
    },
    {
      "cell_type": "code",
      "source": [
        "df['floor'].fillna(df['floor'].median(), inplace =True)\n",
        "df['max_floor'] = df.apply(lambda row: row['floor'] if row['max_floor'] < row['floor'] else row['max_floor'], axis = 1)\n",
        "df['max_floor'] = df.apply(lambda row: row['floor'] if np.isnan(row['max_floor']) else row['max_floor'], axis = 1)\n",
        "\n",
        "df = df[(df['floor'] > 0) & (df['max_floor'] > 0)]"
      ],
      "metadata": {
        "id": "FUmpop0gkARn"
      },
      "execution_count": 10,
      "outputs": []
    },
    {
      "cell_type": "markdown",
      "source": [
        "Устраним проблемы с числом комнат:"
      ],
      "metadata": {
        "id": "PnBjwUPncFNU"
      }
    },
    {
      "cell_type": "code",
      "source": [
        "df.head(3)"
      ],
      "metadata": {
        "colab": {
          "base_uri": "https://localhost:8080/",
          "height": 289
        },
        "id": "h2XS18TAcI0f",
        "outputId": "f573c53f-76c1-456f-e005-d7e1a0eb0f4f"
      },
      "execution_count": 11,
      "outputs": [
        {
          "output_type": "execute_result",
          "data": {
            "text/plain": [
              "   timestamp  full_sq  life_sq  floor  max_floor  material  build_year  \\\n",
              "0 2012-10-04     64.0     64.0   16.0       16.0       NaN         NaN   \n",
              "1 2014-02-05     83.0     44.0    9.0       17.0       1.0      1985.0   \n",
              "2 2012-07-26     71.0     49.0    2.0        2.0       NaN         NaN   \n",
              "\n",
              "   num_room  kitch_sq  state  ... cafe_count_5000_price_2500  \\\n",
              "0       NaN       NaN    NaN  ...                          2   \n",
              "1       3.0      10.0    3.0  ...                         13   \n",
              "2       NaN       NaN    NaN  ...                          0   \n",
              "\n",
              "  cafe_count_5000_price_4000  cafe_count_5000_price_high  \\\n",
              "0                          2                           0   \n",
              "1                          6                           1   \n",
              "2                          0                           0   \n",
              "\n",
              "   big_church_count_5000  church_count_5000  mosque_count_5000  \\\n",
              "0                      0                 13                  1   \n",
              "1                      8                 18                  0   \n",
              "2                      1                  3                  0   \n",
              "\n",
              "   leisure_count_5000  sport_count_5000  market_count_5000     price  \n",
              "0                   0                 6                  1   6080000  \n",
              "1                   1                52                  0  17000000  \n",
              "2                   2                 8                  2    990000  \n",
              "\n",
              "[3 rows x 291 columns]"
            ],
            "text/html": [
              "\n",
              "  <div id=\"df-5bfb44c4-f082-40dd-9894-5ef7402f4761\">\n",
              "    <div class=\"colab-df-container\">\n",
              "      <div>\n",
              "<style scoped>\n",
              "    .dataframe tbody tr th:only-of-type {\n",
              "        vertical-align: middle;\n",
              "    }\n",
              "\n",
              "    .dataframe tbody tr th {\n",
              "        vertical-align: top;\n",
              "    }\n",
              "\n",
              "    .dataframe thead th {\n",
              "        text-align: right;\n",
              "    }\n",
              "</style>\n",
              "<table border=\"1\" class=\"dataframe\">\n",
              "  <thead>\n",
              "    <tr style=\"text-align: right;\">\n",
              "      <th></th>\n",
              "      <th>timestamp</th>\n",
              "      <th>full_sq</th>\n",
              "      <th>life_sq</th>\n",
              "      <th>floor</th>\n",
              "      <th>max_floor</th>\n",
              "      <th>material</th>\n",
              "      <th>build_year</th>\n",
              "      <th>num_room</th>\n",
              "      <th>kitch_sq</th>\n",
              "      <th>state</th>\n",
              "      <th>...</th>\n",
              "      <th>cafe_count_5000_price_2500</th>\n",
              "      <th>cafe_count_5000_price_4000</th>\n",
              "      <th>cafe_count_5000_price_high</th>\n",
              "      <th>big_church_count_5000</th>\n",
              "      <th>church_count_5000</th>\n",
              "      <th>mosque_count_5000</th>\n",
              "      <th>leisure_count_5000</th>\n",
              "      <th>sport_count_5000</th>\n",
              "      <th>market_count_5000</th>\n",
              "      <th>price</th>\n",
              "    </tr>\n",
              "  </thead>\n",
              "  <tbody>\n",
              "    <tr>\n",
              "      <th>0</th>\n",
              "      <td>2012-10-04</td>\n",
              "      <td>64.0</td>\n",
              "      <td>64.0</td>\n",
              "      <td>16.0</td>\n",
              "      <td>16.0</td>\n",
              "      <td>NaN</td>\n",
              "      <td>NaN</td>\n",
              "      <td>NaN</td>\n",
              "      <td>NaN</td>\n",
              "      <td>NaN</td>\n",
              "      <td>...</td>\n",
              "      <td>2</td>\n",
              "      <td>2</td>\n",
              "      <td>0</td>\n",
              "      <td>0</td>\n",
              "      <td>13</td>\n",
              "      <td>1</td>\n",
              "      <td>0</td>\n",
              "      <td>6</td>\n",
              "      <td>1</td>\n",
              "      <td>6080000</td>\n",
              "    </tr>\n",
              "    <tr>\n",
              "      <th>1</th>\n",
              "      <td>2014-02-05</td>\n",
              "      <td>83.0</td>\n",
              "      <td>44.0</td>\n",
              "      <td>9.0</td>\n",
              "      <td>17.0</td>\n",
              "      <td>1.0</td>\n",
              "      <td>1985.0</td>\n",
              "      <td>3.0</td>\n",
              "      <td>10.0</td>\n",
              "      <td>3.0</td>\n",
              "      <td>...</td>\n",
              "      <td>13</td>\n",
              "      <td>6</td>\n",
              "      <td>1</td>\n",
              "      <td>8</td>\n",
              "      <td>18</td>\n",
              "      <td>0</td>\n",
              "      <td>1</td>\n",
              "      <td>52</td>\n",
              "      <td>0</td>\n",
              "      <td>17000000</td>\n",
              "    </tr>\n",
              "    <tr>\n",
              "      <th>2</th>\n",
              "      <td>2012-07-26</td>\n",
              "      <td>71.0</td>\n",
              "      <td>49.0</td>\n",
              "      <td>2.0</td>\n",
              "      <td>2.0</td>\n",
              "      <td>NaN</td>\n",
              "      <td>NaN</td>\n",
              "      <td>NaN</td>\n",
              "      <td>NaN</td>\n",
              "      <td>NaN</td>\n",
              "      <td>...</td>\n",
              "      <td>0</td>\n",
              "      <td>0</td>\n",
              "      <td>0</td>\n",
              "      <td>1</td>\n",
              "      <td>3</td>\n",
              "      <td>0</td>\n",
              "      <td>2</td>\n",
              "      <td>8</td>\n",
              "      <td>2</td>\n",
              "      <td>990000</td>\n",
              "    </tr>\n",
              "  </tbody>\n",
              "</table>\n",
              "<p>3 rows × 291 columns</p>\n",
              "</div>\n",
              "      <button class=\"colab-df-convert\" onclick=\"convertToInteractive('df-5bfb44c4-f082-40dd-9894-5ef7402f4761')\"\n",
              "              title=\"Convert this dataframe to an interactive table.\"\n",
              "              style=\"display:none;\">\n",
              "        \n",
              "  <svg xmlns=\"http://www.w3.org/2000/svg\" height=\"24px\"viewBox=\"0 0 24 24\"\n",
              "       width=\"24px\">\n",
              "    <path d=\"M0 0h24v24H0V0z\" fill=\"none\"/>\n",
              "    <path d=\"M18.56 5.44l.94 2.06.94-2.06 2.06-.94-2.06-.94-.94-2.06-.94 2.06-2.06.94zm-11 1L8.5 8.5l.94-2.06 2.06-.94-2.06-.94L8.5 2.5l-.94 2.06-2.06.94zm10 10l.94 2.06.94-2.06 2.06-.94-2.06-.94-.94-2.06-.94 2.06-2.06.94z\"/><path d=\"M17.41 7.96l-1.37-1.37c-.4-.4-.92-.59-1.43-.59-.52 0-1.04.2-1.43.59L10.3 9.45l-7.72 7.72c-.78.78-.78 2.05 0 2.83L4 21.41c.39.39.9.59 1.41.59.51 0 1.02-.2 1.41-.59l7.78-7.78 2.81-2.81c.8-.78.8-2.07 0-2.86zM5.41 20L4 18.59l7.72-7.72 1.47 1.35L5.41 20z\"/>\n",
              "  </svg>\n",
              "      </button>\n",
              "      \n",
              "  <style>\n",
              "    .colab-df-container {\n",
              "      display:flex;\n",
              "      flex-wrap:wrap;\n",
              "      gap: 12px;\n",
              "    }\n",
              "\n",
              "    .colab-df-convert {\n",
              "      background-color: #E8F0FE;\n",
              "      border: none;\n",
              "      border-radius: 50%;\n",
              "      cursor: pointer;\n",
              "      display: none;\n",
              "      fill: #1967D2;\n",
              "      height: 32px;\n",
              "      padding: 0 0 0 0;\n",
              "      width: 32px;\n",
              "    }\n",
              "\n",
              "    .colab-df-convert:hover {\n",
              "      background-color: #E2EBFA;\n",
              "      box-shadow: 0px 1px 2px rgba(60, 64, 67, 0.3), 0px 1px 3px 1px rgba(60, 64, 67, 0.15);\n",
              "      fill: #174EA6;\n",
              "    }\n",
              "\n",
              "    [theme=dark] .colab-df-convert {\n",
              "      background-color: #3B4455;\n",
              "      fill: #D2E3FC;\n",
              "    }\n",
              "\n",
              "    [theme=dark] .colab-df-convert:hover {\n",
              "      background-color: #434B5C;\n",
              "      box-shadow: 0px 1px 3px 1px rgba(0, 0, 0, 0.15);\n",
              "      filter: drop-shadow(0px 1px 2px rgba(0, 0, 0, 0.3));\n",
              "      fill: #FFFFFF;\n",
              "    }\n",
              "  </style>\n",
              "\n",
              "      <script>\n",
              "        const buttonEl =\n",
              "          document.querySelector('#df-5bfb44c4-f082-40dd-9894-5ef7402f4761 button.colab-df-convert');\n",
              "        buttonEl.style.display =\n",
              "          google.colab.kernel.accessAllowed ? 'block' : 'none';\n",
              "\n",
              "        async function convertToInteractive(key) {\n",
              "          const element = document.querySelector('#df-5bfb44c4-f082-40dd-9894-5ef7402f4761');\n",
              "          const dataTable =\n",
              "            await google.colab.kernel.invokeFunction('convertToInteractive',\n",
              "                                                     [key], {});\n",
              "          if (!dataTable) return;\n",
              "\n",
              "          const docLinkHtml = 'Like what you see? Visit the ' +\n",
              "            '<a target=\"_blank\" href=https://colab.research.google.com/notebooks/data_table.ipynb>data table notebook</a>'\n",
              "            + ' to learn more about interactive tables.';\n",
              "          element.innerHTML = '';\n",
              "          dataTable['output_type'] = 'display_data';\n",
              "          await google.colab.output.renderOutput(dataTable, element);\n",
              "          const docLink = document.createElement('div');\n",
              "          docLink.innerHTML = docLinkHtml;\n",
              "          element.appendChild(docLink);\n",
              "        }\n",
              "      </script>\n",
              "    </div>\n",
              "  </div>\n",
              "  "
            ]
          },
          "metadata": {},
          "execution_count": 11
        }
      ]
    },
    {
      "cell_type": "code",
      "source": [
        "df_rooms = df[['full_sq', 'num_room']].dropna(how = 'any')\n",
        "df_rooms = df_rooms[df_rooms['num_room'] > 0]\n",
        "mean_room_square = (df_rooms['full_sq']/df_rooms['num_room']).mean()\n",
        "df['num_room'] = df.apply(lambda row: row['full_sq']/mean_room_square if np.isnan(row['num_room']) else row['num_room'], axis = 1)\n",
        "df['num_room'] = df.apply(lambda row: row['full_sq']/mean_room_square if row['num_room'] == 0 else row['num_room'], axis = 1)"
      ],
      "metadata": {
        "id": "tPcqgjDcb23Y"
      },
      "execution_count": 12,
      "outputs": []
    },
    {
      "cell_type": "markdown",
      "source": [
        "Также пусть год постройки заполняется медианой, а остальные числовые признаки - средним\n"
      ],
      "metadata": {
        "id": "Tg3lC4exPAtL"
      }
    },
    {
      "cell_type": "code",
      "source": [
        "df['build_year'].fillna(df['build_year'].dropna().median(), inplace = True)"
      ],
      "metadata": {
        "id": "YoPdBfpOuQ2D"
      },
      "execution_count": 13,
      "outputs": []
    },
    {
      "cell_type": "code",
      "source": [
        "for col in num_columns:\n",
        "  df[col].fillna(df[col].mean(), inplace = True)"
      ],
      "metadata": {
        "id": "mTMlxO5UlXlm"
      },
      "execution_count": 14,
      "outputs": []
    },
    {
      "cell_type": "markdown",
      "source": [
        "Категориальные признаки заполним модой:"
      ],
      "metadata": {
        "id": "KD_UJ4h2PH1V"
      }
    },
    {
      "cell_type": "code",
      "source": [
        "if df.isna().sum().sum() > 0:\n",
        "  for col in cat_columns:\n",
        "    df[col].fillna(df[col].mode()[0], inplace = True)\n",
        "    #df[col].fillna('nan', inplace = True)"
      ],
      "metadata": {
        "id": "xBY04GP_j9gk"
      },
      "execution_count": 15,
      "outputs": []
    },
    {
      "cell_type": "code",
      "source": [
        "df = pd.get_dummies(df)"
      ],
      "metadata": {
        "id": "Tw2pet1h9Vrd"
      },
      "execution_count": 16,
      "outputs": []
    },
    {
      "cell_type": "markdown",
      "metadata": {
        "id": "znjwH9_mx3fZ"
      },
      "source": [
        "Разделите имеющиеся у вас данные на обучающую и тестовую выборки. В качестве обучающей выборки возьмите первые 80% данных, последние 20% - тестовая выборка."
      ]
    },
    {
      "cell_type": "code",
      "metadata": {
        "id": "hwfNR565wMKN"
      },
      "source": [
        "X = df.drop(['price'], axis = 1).drop(drop_columns, axis = 1)\n",
        "y = df['price']\n",
        "\n",
        "X_train, X_test, y_train, y_test = train_test_split(X, y, test_size = 0.2, shuffle=False, random_state=42)"
      ],
      "execution_count": 17,
      "outputs": []
    },
    {
      "cell_type": "markdown",
      "metadata": {
        "id": "pL4dJJwZP86w"
      },
      "source": [
        "Возможно в ваших моделях вам придется указывать, какие колонки являются категориальными (например, в бустингах). Для упрощения предлагается разделить колонки по следующему принципу:\n",
        "```\n",
        "drop_columns = [\n",
        "    'id',           # May leak information\n",
        "    'timestamp',    # May leak information\n",
        "]\n",
        "cat_columns = [\n",
        "    'product_type',              #\n",
        "    'material',                  # Material of the wall\n",
        "    'state',                     # Satisfaction level\n",
        "    'sub_area',                  # District name\n",
        "    'culture_objects_top_25',    #\n",
        "    'thermal_power_plant_raion', #\n",
        "    'incineration_raion',        #\n",
        "    'oil_chemistry_raion',       #\n",
        "    'radiation_raion',           #\n",
        "    'railroad_terminal_raion',   #\n",
        "    'big_market_raion',          #\n",
        "    'nuclear_reactor_raion',     #\n",
        "    'detention_facility_raion',  #\n",
        "    'ID_metro',                  #\n",
        "    'ID_railroad_station_walk',  #\n",
        "    'ID_railroad_station_avto',  #\n",
        "    'water_1line',               #\n",
        "    'ID_big_road1',              #\n",
        "    'big_road1_1line',           #\n",
        "    'ID_big_road2',              #\n",
        "    'railroad_1line',            #\n",
        "    'ID_railroad_terminal',      #\n",
        "    'ID_bus_terminal',           #\n",
        "    'ecology',                   #\n",
        "]\n",
        "num_columns = list(set(df.columns).difference(set(cat_columns + drop_columns)))\n",
        "```"
      ]
    },
    {
      "cell_type": "markdown",
      "metadata": {
        "id": "oiOby6hNu92W"
      },
      "source": [
        "### Baseline (2 балла)\n",
        "\n",
        "В качестве Baseline обучите `DecisionTreeRegressor` из `sklearn`."
      ]
    },
    {
      "cell_type": "code",
      "metadata": {
        "id": "gJIDf3kn1Wfv",
        "colab": {
          "base_uri": "https://localhost:8080/"
        },
        "outputId": "2147c678-8422-46da-ab10-ca5a2b38266b"
      },
      "source": [
        "tree_reg = DecisionTreeRegressor(min_samples_leaf=50, random_state=42)\n",
        "tree_reg.fit(X_train, y_train)"
      ],
      "execution_count": null,
      "outputs": [
        {
          "output_type": "execute_result",
          "data": {
            "text/plain": [
              "DecisionTreeRegressor(min_samples_leaf=50, random_state=42)"
            ]
          },
          "metadata": {},
          "execution_count": 16
        }
      ]
    },
    {
      "cell_type": "markdown",
      "metadata": {
        "id": "XUC7NFhw1X41"
      },
      "source": [
        "Проверьте качество на отложенной выборке."
      ]
    },
    {
      "cell_type": "code",
      "metadata": {
        "id": "O_LCiQIN1bzD",
        "colab": {
          "base_uri": "https://localhost:8080/"
        },
        "outputId": "1ebdca50-9b75-49e0-9f82-e43ae1a2042a"
      },
      "source": [
        "y_pred = tree_reg.predict(X_test)\n",
        "mean_squared_error(y_test, y_pred, squared=False)"
      ],
      "execution_count": null,
      "outputs": [
        {
          "output_type": "execute_result",
          "data": {
            "text/plain": [
              "3036916.698234333"
            ]
          },
          "metadata": {},
          "execution_count": 17
        }
      ]
    },
    {
      "cell_type": "markdown",
      "metadata": {
        "id": "3bezBBI7u_oF"
      },
      "source": [
        "### Feature Engineering (2 балла)\n",
        "\n",
        "Часто улучшить модель можно с помощью аккуратного Feature Engineering.\n",
        "\n",
        "Добавим в модель дополнительные признаки:\n",
        "* \"Как часто в этот год и этот месяц появлились объявления\"\n",
        "* \"Как часто в этот год и эту неделю появлялись объявления\""
      ]
    },
    {
      "cell_type": "code",
      "metadata": {
        "id": "_cJ6SBqUKC4C"
      },
      "source": [
        "month_year = (df.timestamp.dt.month + df.timestamp.dt.year * 100)\n",
        "month_year_cnt_map = month_year.value_counts().to_dict()\n",
        "df[\"month_year_cnt\"] = month_year.map(month_year_cnt_map)\n",
        "\n",
        "week_year = (df.timestamp.dt.weekofyear + df.timestamp.dt.year * 100)\n",
        "week_year_cnt_map = week_year.value_counts().to_dict()\n",
        "df[\"week_year_cnt\"] = week_year.map(week_year_cnt_map)"
      ],
      "execution_count": null,
      "outputs": []
    },
    {
      "cell_type": "markdown",
      "metadata": {
        "id": "pCajk45_KDSz"
      },
      "source": [
        "Добавьте следующие дополнительные признаки:\n",
        "* Месяц (из колонки `timestamp`)\n",
        "* День недели (из колонки `timestamp`)\n",
        "* Отношение \"этаж / максимальный этаж в здании\" (колонки `floor` и `max_floor`)\n",
        "* Отношение \"площадь кухни / площадь квартиры\" (колонки `kitchen_sq` и `full_sq`)\n",
        "\n",
        "По желанию можно добавить и другие признаки."
      ]
    },
    {
      "cell_type": "code",
      "metadata": {
        "id": "dXZkoUL8Kve6"
      },
      "source": [
        "df['month'] = df.timestamp.dt.month\n",
        "df['dayofweek'] = df.timestamp.dt.dayofweek\n",
        "df['relative_floor'] = df['floor']/df['max_floor']\n",
        "df['kitchen_vs_flat'] = df['kitch_sq']/df['full_sq']\n",
        "\n",
        "df['room_sq'] = df['full_sq']/df['num_room']"
      ],
      "execution_count": null,
      "outputs": []
    },
    {
      "cell_type": "markdown",
      "metadata": {
        "id": "_-jCowvWLiXZ"
      },
      "source": [
        "Разделите выборку на обучающую и тестовую еще раз (потому что дополнительные признаки созданы для исходной выборки)."
      ]
    },
    {
      "cell_type": "code",
      "metadata": {
        "id": "0f-vO3LcLhdf"
      },
      "source": [
        "X = df.drop(['price'], axis = 1).drop(drop_columns, axis = 1)\n",
        "y = df['price']\n",
        "\n",
        "X_train, X_test, y_train, y_test = train_test_split(X, y, test_size = 0.2, shuffle=True, random_state=42)"
      ],
      "execution_count": null,
      "outputs": []
    },
    {
      "cell_type": "markdown",
      "metadata": {
        "id": "CPtzkpFEvBw9"
      },
      "source": [
        "### Model Selection (3 балла)\n",
        "\n",
        "Посмотрите, какого качества можно добиться если использовать разные модели:\n",
        "* `DecisionTreeRegressor` из `sklearn`\n",
        "* `RandomForestRegressor` из `sklearn`\n",
        "* `CatBoostRegressor`\n",
        "\n",
        "Также вы можете попробовать линейные модели, другие бустинги (`LigthGBM` и `XGBoost`).\n",
        "\n",
        "Почти все библиотеки поддерживают удобный способ подбора гиперпараметров: посмотрите как это делать в [sklearn](https://scikit-learn.org/stable/modules/generated/sklearn.model_selection.GridSearchCV.html) или в [catboost](https://catboost.ai/docs/concepts/python-reference_catboostregressor_grid_search.html).\n",
        "\n",
        "Проверяйте качество каждой модели на тестовой выборке и выберите наилучшую."
      ]
    },
    {
      "cell_type": "markdown",
      "source": [
        "Посмотрим сначала на обычные деревья и бэггинг с ними."
      ],
      "metadata": {
        "id": "TDWonniuQOS_"
      }
    },
    {
      "cell_type": "code",
      "metadata": {
        "id": "PZstXx6uNRfE",
        "colab": {
          "base_uri": "https://localhost:8080/"
        },
        "outputId": "93687af5-69f5-4255-e9e8-9f046f08bb5c"
      },
      "source": [
        "tree_reg = DecisionTreeRegressor(min_samples_leaf=50, random_state=42)\n",
        "tree_reg.fit(X_train, y_train)\n",
        "\n",
        "y_pred = tree_reg.predict(X_test)\n",
        "mean_squared_error(y_test, y_pred, squared=False)"
      ],
      "execution_count": null,
      "outputs": [
        {
          "output_type": "execute_result",
          "data": {
            "text/plain": [
              "3185270.2662596875"
            ]
          },
          "metadata": {},
          "execution_count": 21
        }
      ]
    },
    {
      "cell_type": "code",
      "source": [
        "from sklearn.ensemble import BaggingRegressor"
      ],
      "metadata": {
        "id": "V0A5a3H-QME6"
      },
      "execution_count": null,
      "outputs": []
    },
    {
      "cell_type": "code",
      "source": [
        "bagging_reg = BaggingRegressor(base_estimator=DecisionTreeRegressor(random_state=42, max_features='sqrt'), n_estimators=50, random_state=42)\n",
        "bagging_reg.fit(X_train, y_train)\n",
        "\n",
        "y_pred = bagging_reg.predict(X_test)\n",
        "mean_squared_error(y_test, y_pred, squared=False)"
      ],
      "metadata": {
        "colab": {
          "base_uri": "https://localhost:8080/"
        },
        "id": "CGuS34RSTyve",
        "outputId": "d9137c2e-5f8c-40ca-b85d-01617c1fb9d0"
      },
      "execution_count": null,
      "outputs": [
        {
          "output_type": "execute_result",
          "data": {
            "text/plain": [
              "2990460.0186792766"
            ]
          },
          "metadata": {},
          "execution_count": 23
        }
      ]
    },
    {
      "cell_type": "markdown",
      "source": [
        "Теперь на случайный лес, и попробуем подобрать оптимальные параметры."
      ],
      "metadata": {
        "id": "DbqgM_ONTcBH"
      }
    },
    {
      "cell_type": "code",
      "source": [
        "random_forest_reg = RandomForestRegressor(random_state=42, n_jobs = -1)\n",
        "random_forest_reg.fit(X_train, y_train)\n",
        "\n",
        "y_pred = random_forest_reg.predict(X_test)\n",
        "mean_squared_error(y_test, y_pred, squared=False)"
      ],
      "metadata": {
        "colab": {
          "base_uri": "https://localhost:8080/"
        },
        "id": "-AmlY_TZeL6-",
        "outputId": "fc731421-ef91-4f73-e201-908d11c5defa"
      },
      "execution_count": null,
      "outputs": [
        {
          "output_type": "execute_result",
          "data": {
            "text/plain": [
              "2798363.055633215"
            ]
          },
          "metadata": {},
          "execution_count": 64
        }
      ]
    },
    {
      "cell_type": "code",
      "source": [
        "#!pip install optuna\n",
        "import optuna"
      ],
      "metadata": {
        "id": "rjnEVOClyJ0z"
      },
      "execution_count": 18,
      "outputs": []
    },
    {
      "cell_type": "code",
      "source": [
        "def objective(trial):\n",
        "\n",
        "  n_estimators = trial.suggest_int(\"n_estimators\", 100, 500, 400)\n",
        "  max_depth = trial.suggest_categorical(\"max_depth\", [ 50, None])\n",
        "\n",
        "  forest_model = RandomForestRegressor(n_estimators = n_estimators, max_depth = max_depth, max_features = \"auto\") #auto показывал результаты лучше sqrt\n",
        "  forest_model.fit(X_train, y_train)\n",
        "  y_pred = forest_model.predict(X_test)\n",
        " \n",
        "  return mean_squared_error(y_test, y_pred, squared=False)"
      ],
      "metadata": {
        "id": "sW0VDIOXyYrh"
      },
      "execution_count": null,
      "outputs": []
    },
    {
      "cell_type": "code",
      "source": [
        "study = optuna.create_study(study_name=\"RF\")\n",
        "study.optimize(objective, n_trials=6, n_jobs = -1)"
      ],
      "metadata": {
        "colab": {
          "base_uri": "https://localhost:8080/"
        },
        "id": "AuwsE5khzF_1",
        "outputId": "6cdd3b76-cc81-4e05-ab64-fdfd9d3cc3ff"
      },
      "execution_count": null,
      "outputs": [
        {
          "output_type": "stream",
          "name": "stderr",
          "text": [
            "\u001b[32m[I 2022-05-11 14:12:17,566]\u001b[0m A new study created in memory with name: RF\u001b[0m\n",
            "\u001b[32m[I 2022-05-11 14:22:49,881]\u001b[0m Trial 4 finished with value: 2741491.8781349673 and parameters: {'n_estimators': 100, 'max_depth': None, 'max_features': 'auto'}. Best is trial 4 with value: 2741491.8781349673.\u001b[0m\n",
            "\u001b[32m[I 2022-05-11 14:58:00,487]\u001b[0m Trial 3 finished with value: 2728086.7452210127 and parameters: {'n_estimators': 500, 'max_depth': 50, 'max_features': 'auto'}. Best is trial 3 with value: 2728086.7452210127.\u001b[0m\n",
            "\u001b[32m[I 2022-05-11 15:01:29,485]\u001b[0m Trial 0 finished with value: 2731462.5199570744 and parameters: {'n_estimators': 500, 'max_depth': 50}. Best is trial 0 with value: 2731462.5199570744.\u001b[0m\n",
            "\u001b[32m[I 2022-05-11 15:01:30,874]\u001b[0m Trial 1 finished with value: 2745926.9012746997 and parameters: {'n_estimators': 500, 'max_depth': 50}. Best is trial 0 with value: 2731462.5199570744.\u001b[0m\n",
            "\u001b[32m[I 2022-05-11 15:07:50,247]\u001b[0m Trial 2 finished with value: 2744020.2930890736 and parameters: {'n_estimators': 100, 'max_depth': 50}. Best is trial 0 with value: 2731462.5199570744.\u001b[0m\n",
            "\u001b[32m[I 2022-05-11 15:08:11,632]\u001b[0m Trial 3 finished with value: 2716233.3372873357 and parameters: {'n_estimators': 100, 'max_depth': 50}. Best is trial 3 with value: 2716233.3372873357.\u001b[0m\n",
            "\u001b[32m[I 2022-05-11 15:14:47,460]\u001b[0m Trial 5 finished with value: 2728734.2203590884 and parameters: {'n_estimators': 100, 'max_depth': 50}. Best is trial 3 with value: 2716233.3372873357.\u001b[0m\n",
            "\u001b[32m[I 2022-05-11 15:31:47,718]\u001b[0m Trial 4 finished with value: 2726242.004888951 and parameters: {'n_estimators': 500, 'max_depth': 50}. Best is trial 3 with value: 2716233.3372873357.\u001b[0m\n"
          ]
        }
      ]
    },
    {
      "cell_type": "code",
      "source": [
        "best_forest_params = study.best_params\n",
        "best_forest_model = RandomForestRegressor(**best_forest_params, random_state=42, n_jobs = -1)\n",
        "\n",
        "best_forest_model.fit(X_train, y_train)\n",
        "\n",
        "y_pred = best_forest_model.predict(X_test)\n",
        "mean_squared_error(y_test, y_pred, squared=False)"
      ],
      "metadata": {
        "colab": {
          "base_uri": "https://localhost:8080/"
        },
        "id": "0g1q_ZKYzGOf",
        "outputId": "9fb66076-79e4-4655-d870-d2dffb21ab88"
      },
      "execution_count": null,
      "outputs": [
        {
          "output_type": "execute_result",
          "data": {
            "text/plain": [
              "2747021.6759853032"
            ]
          },
          "metadata": {},
          "execution_count": 77
        }
      ]
    },
    {
      "cell_type": "markdown",
      "source": [
        "Теперь посмотрим на Catboost, поищем гиперпараметры там с помощью Optuna. \\\n",
        "Разработчики Catboost рекомендуют не использовать one-hot coding."
      ],
      "metadata": {
        "id": "JfYN_bYpUaxn"
      }
    },
    {
      "cell_type": "code",
      "source": [
        "#!pip install catboost\n",
        "from catboost import CatBoostRegressor\n"
      ],
      "metadata": {
        "id": "NDJI1W8vel7l"
      },
      "execution_count": 19,
      "outputs": []
    },
    {
      "cell_type": "code",
      "source": [
        "cat_model = CatBoostRegressor(verbose = False, random_state = 42)# , max_bin=3\n",
        "cat_model.fit(X_train, y_train)\n",
        "y_pred = cat_model.predict(X_test)\n",
        "mean_squared_error(y_test, y_pred, squared=False)"
      ],
      "metadata": {
        "id": "CVQYPEHEemmJ",
        "colab": {
          "base_uri": "https://localhost:8080/"
        },
        "outputId": "701b4791-7280-4643-b37f-2a63d7e82fee"
      },
      "execution_count": 19,
      "outputs": [
        {
          "output_type": "execute_result",
          "data": {
            "text/plain": [
              "2677476.2449656893"
            ]
          },
          "metadata": {},
          "execution_count": 19
        }
      ]
    },
    {
      "cell_type": "code",
      "source": [
        "def objective(trial):\n",
        "  l2_leaf_reg = trial.suggest_float(\"l2_leaf_reg\", 1, 5)\n",
        "  learning_rate = trial.suggest_float(\"learning_rate\", 0.00001, 1)\n",
        "  cat_model = CatBoostRegressor(learning_rate = learning_rate, l2_leaf_reg=l2_leaf_reg, iterations = 500, verbose = False)\n",
        "  cat_model.fit(X_train, y_train)\n",
        "  y_pred = cat_model.predict(X_test)\n",
        " \n",
        "  return mean_squared_error(y_test, y_pred, squared=False)"
      ],
      "metadata": {
        "id": "PfNKsKWcUm3n"
      },
      "execution_count": 20,
      "outputs": []
    },
    {
      "cell_type": "code",
      "source": [
        "study = optuna.create_study(study_name=\"Catboost\")\n",
        "study.optimize(objective, n_trials=7, n_jobs = -1, show_progress_bar=True)"
      ],
      "metadata": {
        "colab": {
          "base_uri": "https://localhost:8080/"
        },
        "id": "Nw9XZJcjlr92",
        "outputId": "34fb50f7-e5f8-4dec-9d28-59db9fd0c8a1"
      },
      "execution_count": 21,
      "outputs": [
        {
          "output_type": "stream",
          "name": "stderr",
          "text": [
            "\u001b[32m[I 2022-05-12 10:28:28,360]\u001b[0m A new study created in memory with name: Catboost\u001b[0m\n",
            "Custom logger is already specified. Specify more than one logger at same time is not thread safe.\u001b[32m[I 2022-05-12 10:29:23,018]\u001b[0m Trial 1 finished with value: 2879907.7297702665 and parameters: {'l2_leaf_reg': 2.9477758669856393, 'learning_rate': 0.673888673719942}. Best is trial 1 with value: 2879907.7297702665.\u001b[0m\n",
            "\u001b[32m[I 2022-05-12 10:29:32,745]\u001b[0m Trial 0 finished with value: 2802931.2075351863 and parameters: {'l2_leaf_reg': 3.7875666331093503, 'learning_rate': 0.5745469743897773}. Best is trial 0 with value: 2802931.2075351863.\u001b[0m\n",
            "\u001b[32m[I 2022-05-12 10:30:19,508]\u001b[0m Trial 2 finished with value: 2799327.2907123826 and parameters: {'l2_leaf_reg': 2.8138125256704085, 'learning_rate': 0.40238338335727436}. Best is trial 2 with value: 2799327.2907123826.\u001b[0m\n",
            "\u001b[32m[I 2022-05-12 10:30:34,560]\u001b[0m Trial 3 finished with value: 2982013.9312236076 and parameters: {'l2_leaf_reg': 4.885438097630977, 'learning_rate': 0.947287057515265}. Best is trial 2 with value: 2799327.2907123826.\u001b[0m\n",
            "\u001b[32m[I 2022-05-12 10:31:17,258]\u001b[0m Trial 4 finished with value: 2818059.632969023 and parameters: {'l2_leaf_reg': 4.722594712795693, 'learning_rate': 0.6111516423114836}. Best is trial 2 with value: 2799327.2907123826.\u001b[0m\n",
            "\u001b[32m[I 2022-05-12 10:31:36,411]\u001b[0m Trial 5 finished with value: 2812286.3717742884 and parameters: {'l2_leaf_reg': 1.6679832669960395, 'learning_rate': 0.45582055607785854}. Best is trial 2 with value: 2799327.2907123826.\u001b[0m\n",
            "\u001b[32m[I 2022-05-12 10:31:57,260]\u001b[0m Trial 6 finished with value: 2664654.0750260325 and parameters: {'l2_leaf_reg': 4.177225178931094, 'learning_rate': 0.34007132425292275}. Best is trial 6 with value: 2664654.0750260325.\u001b[0m\n"
          ]
        }
      ]
    },
    {
      "cell_type": "code",
      "source": [
        "best_catboost_params = study.best_params\n",
        "best_catboost_model = CatBoostRegressor(**best_catboost_params, random_state = 42, verbose = False)\n",
        "\n",
        "best_catboost_model.fit(X_train, y_train)\n",
        "\n",
        "y_pred = best_catboost_model.predict(X_test)\n",
        "mean_squared_error(y_test, y_pred, squared=False)"
      ],
      "metadata": {
        "colab": {
          "base_uri": "https://localhost:8080/"
        },
        "id": "KPNBm0PKl0jK",
        "outputId": "44b5dc0f-f79b-4f80-82f4-a14093306976"
      },
      "execution_count": 22,
      "outputs": [
        {
          "output_type": "execute_result",
          "data": {
            "text/plain": [
              "2785920.147387887"
            ]
          },
          "metadata": {},
          "execution_count": 22
        }
      ]
    },
    {
      "cell_type": "markdown",
      "source": [
        "На основе имеющихся данных можно сделать вывод о том, что Catboost решает задачу регрессии лучше других рассмотренных моделей (RandomForest, DecisionTreeRegressor, Bagging + DecisionTrees)"
      ],
      "metadata": {
        "id": "e68IQJimMWBB"
      }
    },
    {
      "cell_type": "markdown",
      "metadata": {
        "id": "JxQnozbtvD6x"
      },
      "source": [
        "### Ensemble v.1 (3 балла)\n",
        "\n",
        "Ансамбли иногда оказываются лучше чем одна большая модель.\n",
        "\n",
        "В колонке `product_type` содержится информация о том, каким является объявление: `Investment` (продажа квартиры как инвестиции) или `OwnerOccupier` (продажа квартиры для жилья). Логично предположить, что если сделать по модели на каждый из этих типов, то качество будет выше.\n",
        "\n",
        "Обучите свои лучшие модели на отдельно на `Investment` и `OwnerOccupier` (т.е. у вас будет `model_invest`, обученная на `(invest_train_X, invest_train_Y)` и `model_owner`, обученная на `(owner_train_X, owner_train_Y)`) и проверьте качество на отложенной выборке (т.е. на исходном `test_split`)."
      ]
    },
    {
      "cell_type": "code",
      "source": [
        "invest_train_X = X_train[X_train['product_type_Investment'] == 1].drop(['product_type_Investment'], axis = 1)\n",
        "invest_train_Y = y_train[X_train['product_type_Investment'] == 1]\n",
        "invest_test_X = X_test[X_test['product_type_Investment'] == 1].drop(['product_type_Investment'], axis = 1)\n",
        "invest_test_Y = y_test[X_test['product_type_Investment'] == 1]\n",
        "\n",
        "owner_train_X = X_train[X_train['product_type_OwnerOccupier'] == 1].drop(['product_type_OwnerOccupier'], axis = 1)\n",
        "owner_train_Y = y_train[X_train['product_type_OwnerOccupier'] == 1]\n",
        "owner_test_X = X_test[X_test['product_type_OwnerOccupier'] == 1].drop(['product_type_OwnerOccupier'], axis = 1)\n",
        "owner_test_Y = y_test[X_test['product_type_OwnerOccupier'] == 1]"
      ],
      "metadata": {
        "id": "hoVlCqfo9E0v"
      },
      "execution_count": 35,
      "outputs": []
    },
    {
      "cell_type": "code",
      "metadata": {
        "id": "HeJOCYa-O_VE",
        "colab": {
          "base_uri": "https://localhost:8080/"
        },
        "outputId": "1bb2d212-03cf-4357-c988-02c050c66d1c"
      },
      "source": [
        "def product_type_model(invest_train_X, invest_train_Y, invest_test_X, invest_test_Y, \n",
        "                       owner_train_X, owner_train_Y, owner_test_X, owner_test_Y):\n",
        "\n",
        "\n",
        "  cat_model_invest = CatBoostRegressor(verbose = False, random_state = 42)\n",
        "  cat_model_invest.fit(invest_train_X, invest_train_Y)\n",
        "  y_pred = cat_model_invest.predict(invest_test_X)\n",
        "  invest_model_rmse = mean_squared_error(invest_test_Y, y_pred, squared=False)\n",
        "\n",
        "  cat_model_owner = CatBoostRegressor(verbose = False, random_state = 42)\n",
        "  cat_model_owner.fit(owner_train_X, owner_train_Y)\n",
        "  y_pred = cat_model_owner.predict(owner_test_X)\n",
        "  owner_model_rmse = mean_squared_error(owner_test_Y, y_pred, squared=False)\n",
        "\n",
        "  print('invest_model RMSE: ', invest_model_rmse)\n",
        "  print('owner_model RMSE: ', owner_model_rmse)\n",
        "\n",
        "product_type_model(invest_train_X, invest_train_Y, invest_test_X, invest_test_Y, \n",
        "                       owner_train_X, owner_train_Y, owner_test_X, owner_test_Y)"
      ],
      "execution_count": 23,
      "outputs": [
        {
          "output_type": "stream",
          "name": "stdout",
          "text": [
            "invest_model RMSE:  2955807.9398104264\n",
            "owner_model RMSE:  2007131.9837216274\n"
          ]
        }
      ]
    },
    {
      "cell_type": "markdown",
      "metadata": {
        "id": "J8t-klaK2A6s"
      },
      "source": [
        "### (*) Ensemble v.2 (дополнительно, 2 балла)\n",
        "\n",
        "Попробуйте сделать для `Investment` более сложную модель: обучите `CatBoostRegressor` и `HuberRegressor` из `sklearn`, а затем сложите их предсказания с весами `w_1` и `w_2` (выберите веса сами; сумма весов равняется 1)."
      ]
    },
    {
      "cell_type": "code",
      "source": [
        "from sklearn.linear_model import HuberRegressor"
      ],
      "metadata": {
        "id": "m_naZrwCqENV"
      },
      "execution_count": 24,
      "outputs": []
    },
    {
      "cell_type": "code",
      "source": [
        "def objective(trial):\n",
        "  max_iter = trial.suggest_int(\"max_iter\", 50, 500, 50)\n",
        "  epsilon = trial.suggest_float(\"epsilon\", 1, 3)\n",
        "  alpha = trial.suggest_float(\"alpha\", 0.00001, 0.01)\n",
        "  warm_start = trial.suggest_categorical(\"warm_start\", [True, False])\n",
        "  fit_intercept = trial.suggest_categorical(\"fit_intercept\", [True, False])\n",
        "  tol = trial.suggest_float(\"epsilon\", 1e-7, 1e-2)\n",
        "  Huber = HuberRegressor(max_iter = max_iter, epsilon=epsilon, alpha = alpha, warm_start = warm_start, \n",
        "                         fit_intercept = fit_intercept, tol = tol)\n",
        "  Huber.fit(invest_train_X, invest_train_Y)\n",
        "  y_pred = Huber.predict(invest_test_X)\n",
        " \n",
        "  return mean_squared_error(invest_test_Y, y_pred, squared=False)"
      ],
      "metadata": {
        "id": "UvSjqpwO71Ei"
      },
      "execution_count": 40,
      "outputs": []
    },
    {
      "cell_type": "code",
      "source": [
        "study = optuna.create_study(study_name=\"Huber\")\n",
        "study.optimize(objective, n_trials=20, n_jobs = -1, show_progress_bar=True)"
      ],
      "metadata": {
        "colab": {
          "base_uri": "https://localhost:8080/"
        },
        "id": "rL1J0bNu73IS",
        "outputId": "6e6d0288-dfde-4188-9e74-34e3ba0ff09b"
      },
      "execution_count": 42,
      "outputs": [
        {
          "output_type": "stream",
          "name": "stderr",
          "text": [
            "\u001b[32m[I 2022-05-12 11:12:23,665]\u001b[0m A new study created in memory with name: Huber\u001b[0m\n",
            "\u001b[32m[I 2022-05-12 11:12:37,065]\u001b[0m Trial 1 finished with value: 5136132.807252785 and parameters: {'max_iter': 150, 'epsilon': 2.7646480927739745, 'alpha': 0.0038048542170067558, 'warm_start': True, 'fit_intercept': False}. Best is trial 1 with value: 5136132.807252785.\u001b[0m\n",
            "\u001b[32m[I 2022-05-12 11:12:51,762]\u001b[0m Trial 2 finished with value: 5133188.384662846 and parameters: {'max_iter': 250, 'epsilon': 1.8805146105449237, 'alpha': 0.009778367290028954, 'warm_start': False, 'fit_intercept': True}. Best is trial 2 with value: 5133188.384662846.\u001b[0m\n",
            "\u001b[32m[I 2022-05-12 11:12:53,646]\u001b[0m Trial 0 finished with value: 5080059.56994567 and parameters: {'max_iter': 450, 'epsilon': 2.451525832784362, 'alpha': 0.008339739306133057, 'warm_start': False, 'fit_intercept': False}. Best is trial 0 with value: 5080059.56994567.\u001b[0m\n",
            "\u001b[32m[I 2022-05-12 11:13:05,650]\u001b[0m Trial 3 finished with value: 5135036.225962242 and parameters: {'max_iter': 250, 'epsilon': 2.985768426014835, 'alpha': 0.0021275711492834437, 'warm_start': True, 'fit_intercept': False}. Best is trial 0 with value: 5080059.56994567.\u001b[0m\n",
            "\u001b[32m[I 2022-05-12 11:13:09,690]\u001b[0m Trial 4 finished with value: 5134529.225284861 and parameters: {'max_iter': 300, 'epsilon': 2.8431009300565817, 'alpha': 0.009032924403062085, 'warm_start': False, 'fit_intercept': False}. Best is trial 0 with value: 5080059.56994567.\u001b[0m\n",
            "\u001b[32m[I 2022-05-12 11:13:15,126]\u001b[0m Trial 6 finished with value: 5138540.767963972 and parameters: {'max_iter': 100, 'epsilon': 1.119222466657708, 'alpha': 0.0025020390167999405, 'warm_start': False, 'fit_intercept': False}. Best is trial 0 with value: 5080059.56994567.\u001b[0m\n",
            "\u001b[32m[I 2022-05-12 11:13:28,846]\u001b[0m Trial 7 finished with value: 5134895.748088031 and parameters: {'max_iter': 250, 'epsilon': 2.1699226019976763, 'alpha': 0.009222906951406987, 'warm_start': False, 'fit_intercept': False}. Best is trial 0 with value: 5080059.56994567.\u001b[0m\n",
            "\u001b[32m[I 2022-05-12 11:13:32,031]\u001b[0m Trial 5 finished with value: 5074834.322853094 and parameters: {'max_iter': 500, 'epsilon': 2.088543674024659, 'alpha': 0.0009309150073846904, 'warm_start': True, 'fit_intercept': False}. Best is trial 5 with value: 5074834.322853094.\u001b[0m\n",
            "\u001b[32m[I 2022-05-12 11:13:37,212]\u001b[0m Trial 9 finished with value: 5137462.224368189 and parameters: {'max_iter': 100, 'epsilon': 1.1147332202515465, 'alpha': 0.00025764624009951226, 'warm_start': False, 'fit_intercept': False}. Best is trial 5 with value: 5074834.322853094.\u001b[0m\n",
            "\u001b[32m[I 2022-05-12 11:13:39,588]\u001b[0m Trial 8 finished with value: 5129282.920511662 and parameters: {'max_iter': 200, 'epsilon': 1.87442133834754, 'alpha': 0.0037966855422766933, 'warm_start': False, 'fit_intercept': True}. Best is trial 5 with value: 5074834.322853094.\u001b[0m\n",
            "\u001b[32m[I 2022-05-12 11:13:53,028]\u001b[0m Trial 10 finished with value: 5131662.011128449 and parameters: {'max_iter': 300, 'epsilon': 1.7461309158730949, 'alpha': 0.009960936664606854, 'warm_start': True, 'fit_intercept': True}. Best is trial 5 with value: 5074834.322853094.\u001b[0m\n",
            "\u001b[32m[I 2022-05-12 11:14:06,061]\u001b[0m Trial 11 finished with value: 5079965.06564952 and parameters: {'max_iter': 500, 'epsilon': 1.566697394480765, 'alpha': 0.006340219398459794, 'warm_start': True, 'fit_intercept': True}. Best is trial 5 with value: 5074834.322853094.\u001b[0m\n",
            "\u001b[32m[I 2022-05-12 11:14:19,938]\u001b[0m Trial 12 finished with value: 5072532.342822795 and parameters: {'max_iter': 500, 'epsilon': 2.3723982466285167, 'alpha': 0.006858618932170281, 'warm_start': True, 'fit_intercept': False}. Best is trial 12 with value: 5072532.342822795.\u001b[0m\n",
            "\u001b[32m[I 2022-05-12 11:14:33,433]\u001b[0m Trial 13 finished with value: 5076588.662082272 and parameters: {'max_iter': 500, 'epsilon': 1.5525366456508058, 'alpha': 0.005872927391908122, 'warm_start': True, 'fit_intercept': True}. Best is trial 12 with value: 5072532.342822795.\u001b[0m\n",
            "\u001b[32m[I 2022-05-12 11:14:41,366]\u001b[0m Trial 14 finished with value: 5094722.786192631 and parameters: {'max_iter': 400, 'epsilon': 2.356562448022334, 'alpha': 0.006662974351837625, 'warm_start': True, 'fit_intercept': False}. Best is trial 12 with value: 5072532.342822795.\u001b[0m\n",
            "\u001b[32m[I 2022-05-12 11:14:54,336]\u001b[0m Trial 15 finished with value: 5102968.880167726 and parameters: {'max_iter': 400, 'epsilon': 2.233880016514441, 'alpha': 0.007299013871142184, 'warm_start': True, 'fit_intercept': False}. Best is trial 12 with value: 5072532.342822795.\u001b[0m\n",
            "\u001b[32m[I 2022-05-12 11:15:02,232]\u001b[0m Trial 16 finished with value: 5083893.477959123 and parameters: {'max_iter': 400, 'epsilon': 2.527845635599518, 'alpha': 0.00018750663572613974, 'warm_start': True, 'fit_intercept': False}. Best is trial 12 with value: 5072532.342822795.\u001b[0m\n",
            "\u001b[32m[I 2022-05-12 11:15:15,084]\u001b[0m Trial 17 finished with value: 5083761.65880678 and parameters: {'max_iter': 400, 'epsilon': 2.573179132963744, 'alpha': 0.004947294973126687, 'warm_start': True, 'fit_intercept': False}. Best is trial 12 with value: 5072532.342822795.\u001b[0m\n",
            "\u001b[32m[I 2022-05-12 11:15:20,576]\u001b[0m Trial 18 finished with value: 5119125.134114681 and parameters: {'max_iter': 350, 'epsilon': 2.0513901691701024, 'alpha': 0.004855366431565297, 'warm_start': True, 'fit_intercept': False}. Best is trial 12 with value: 5072532.342822795.\u001b[0m\n",
            "\u001b[32m[I 2022-05-12 11:15:31,697]\u001b[0m Trial 19 finished with value: 5083330.774937309 and parameters: {'max_iter': 500, 'epsilon': 2.107749789082704, 'alpha': 0.002010968298031894, 'warm_start': True, 'fit_intercept': False}. Best is trial 12 with value: 5072532.342822795.\u001b[0m\n"
          ]
        }
      ]
    },
    {
      "cell_type": "code",
      "metadata": {
        "id": "JOKD-l8HuOgM",
        "colab": {
          "base_uri": "https://localhost:8080/"
        },
        "outputId": "d38f8841-2c41-4376-b533-c5ec8121a538"
      },
      "source": [
        "def product_type_model(invest_train_X, invest_train_Y, invest_test_X, invest_test_Y, \n",
        "                       owner_train_X, owner_train_Y, owner_test_X, owner_test_Y):\n",
        "  cat_model_invest = CatBoostRegressor(verbose = False, random_state = 42)\n",
        "  cat_model_invest.fit(invest_train_X, invest_train_Y)\n",
        "  y_pred_cat_model = cat_model_invest.predict(invest_test_X)\n",
        "  invest_cat_model_rmse = mean_squared_error(invest_test_Y, y_pred_cat_model, squared=False)\n",
        "\n",
        "  huber_model_invest = HuberRegressor(**study.best_params)\n",
        "  huber_model_invest.fit(invest_train_X, invest_train_Y)\n",
        "  y_pred_huber_model = huber_model_invest.predict(invest_test_X)\n",
        "  invest_huber_model_rmse = mean_squared_error(invest_test_Y, y_pred_huber_model, squared=False)\n",
        "\n",
        "\n",
        "  w1, w2 = 0.8, 0.2\n",
        "  invest_model_rmse = mean_squared_error(invest_test_Y, y_pred_cat_model*w1 + y_pred_huber_model*w2, squared=False)\n",
        "\n",
        "\n",
        "  cat_model_owner = CatBoostRegressor(**best_catboost_params, verbose = False, random_state = 42)\n",
        "  cat_model_owner.fit(owner_train_X, owner_train_Y)\n",
        "  y_pred = cat_model_owner.predict(owner_test_X)\n",
        "  owner_model_rmse = mean_squared_error(owner_test_Y, y_pred, squared=False)\n",
        "\n",
        "\n",
        "  print('Huber invest_model RMSE: ', invest_huber_model_rmse)\n",
        "  print('Cat invest_model RMSE: ', invest_cat_model_rmse)\n",
        "  print('difficult invest_model RMSE: ', invest_model_rmse)\n",
        "\n",
        "  print('owner_model RMSE: ', owner_model_rmse)\n",
        "\n",
        "product_type_model(invest_train_X, invest_train_Y, invest_test_X, invest_test_Y, \n",
        "                       owner_train_X, owner_train_Y, owner_test_X, owner_test_Y)"
      ],
      "execution_count": 46,
      "outputs": [
        {
          "output_type": "stream",
          "name": "stdout",
          "text": [
            "Huber invest_model RMSE:  5072532.342822795\n",
            "Cat invest_model RMSE:  2955807.9398104264\n",
            "difficult invest_model RMSE:  3026774.963163435\n",
            "owner_model RMSE:  2121677.922824517\n"
          ]
        }
      ]
    },
    {
      "cell_type": "markdown",
      "source": [
        "Из-за плохого результата Huber-регрессора суммарно результат как-то не улучшается"
      ],
      "metadata": {
        "id": "d5lfPWTsS8B7"
      }
    }
  ]
}